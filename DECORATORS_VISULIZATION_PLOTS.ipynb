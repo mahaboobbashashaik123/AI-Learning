{
 "cells": [
  {
   "cell_type": "code",
   "execution_count": 2,
   "id": "52920bcc",
   "metadata": {
    "id": "52920bcc"
   },
   "outputs": [],
   "source": [
    "import seaborn as sns\n",
    "import matplotlib.pyplot as plt\n",
    "import warnings\n",
    "warnings.filterwarnings('ignore')\n",
    "df = sns.load_dataset('tips')\n",
    "def plot_box(func):\n",
    "    def boxplot2():\n",
    "        plt.figure(figsize=(15,6))\n",
    "        plt.subplot(1,2,1)\n",
    "        print(sns.boxplot(x='sex',y='total_bill',data=df, hue=\"smoker\"))\n",
    "        func()\n",
    "        print(\"Boxplot below\")\n",
    "    return boxplot2()\n",
    "def plot_violin(msg):\n",
    "    def boxplot4():\n",
    "        plt.subplot(1,2,2)\n",
    "        print(sns.violinplot(x='sex',y='total_bill',data=df))\n",
    "        print(\"Boxplot and violinplot\")\n",
    "    return boxplot4()\n",
    "def plot_lm(m):\n",
    "    def lmplot():\n",
    "        sns.lmplot(x ='total_bill', y ='tip', data = df)\n",
    "        plt.show()\n",
    "    return lmplot()\n",
    "def plot_bar(m):\n",
    "    def bar():\n",
    "        sns.barplot(x = 'sex',y = 'tip',data = df)\n",
    "        plt.show()\n",
    "    return bar()\n",
    "def plot_dist(m):\n",
    "    def dist():\n",
    "        sns.distplot(df['total_bill'])\n",
    "        plt.show()\n",
    "    return dist()\n",
    "def plot_hist(m):\n",
    "    def hist():\n",
    "        sns.histplot(data=df, x=\"tip\")\n",
    "        plt.show()\n",
    "    return  hist()\n",
    "def plot_scatter(m):\n",
    "    def scatter():\n",
    "        sns.scatterplot(x='day', y='tip', data=df)\n",
    "        plt.show()\n",
    "    return scatter()\n",
    "def plot_pair(m):\n",
    "    def pair():\n",
    "        sns.pairplot(df)\n",
    "        plt.show()\n",
    "    return  pair()\n",
    "def plot_dis(m):\n",
    "    def dis():\n",
    "        sns.displot(df['total_bill'])\n",
    "        plt.show()\n",
    "    return dis()\n",
    "@plot_dis\n",
    "@plot_pair\n",
    "@plot_scatter\n",
    "@plot_hist\n",
    "@plot_dist\n",
    "@plot_bar\n",
    "@plot_lm\n",
    "@plot_violin\n",
    "@plot_box\n",
    "def plotting():\n",
    "    print(\"ALL_PLOTS_BELOW\")"
   ]
  },
  {
   "cell_type": "code",
   "execution_count": null,
   "id": "5584ed67",
   "metadata": {},
   "outputs": [],
   "source": []
  }
 ],
 "metadata": {
  "colab": {
   "collapsed_sections": [],
   "name": "RESUBMITTING_B0X_VIOLIN_PLOTS_modified_ganesh.ipynb",
   "provenance": []
  },
  "kernelspec": {
   "display_name": "Python 3 (ipykernel)",
   "language": "python",
   "name": "python3"
  },
  "language_info": {
   "codemirror_mode": {
    "name": "ipython",
    "version": 3
   },
   "file_extension": ".py",
   "mimetype": "text/x-python",
   "name": "python",
   "nbconvert_exporter": "python",
   "pygments_lexer": "ipython3",
   "version": "3.9.7"
  }
 },
 "nbformat": 4,
 "nbformat_minor": 5
}
